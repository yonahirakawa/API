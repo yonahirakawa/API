{
 "cells": [
  {
   "cell_type": "markdown",
   "metadata": {},
   "source": [
    "### Consumindo os dados da API de localidades\n",
    "\n",
    "API de localidades: https://servicodados.ibge.gov.br/api/docs/localidades#api-_\n"
   ]
  },
  {
   "cell_type": "code",
   "execution_count": null,
   "metadata": {},
   "outputs": [],
   "source": [
    "import pandas as pd\n",
    "import requests\n",
    "import json"
   ]
  },
  {
   "cell_type": "code",
   "execution_count": null,
   "metadata": {},
   "outputs": [],
   "source": [
    "import sqlalchemy as db\n",
    "import mysql.connector\n",
    "from sqlalchemy import create_engine\n",
    "from pandasql import PandaSQL\n",
    "import pymysql"
   ]
  },
  {
   "cell_type": "code",
   "execution_count": null,
   "metadata": {},
   "outputs": [],
   "source": [
    "UFs = [11,12,13,14,15,16,17,21,22,23,24,25,26,27,28,29,31,32,33,35,41,42,43,50,51,52,53]\n",
    "\n",
    "dfs = []\n",
    "\n",
    "for UF in UFs:\n",
    "    url = f\"https://servicodados.ibge.gov.br/api/v1/localidades/estados/{UF}/distritos\"\n",
    "    dados = requests.get(url).text\n",
    "    distritos = json.loads(dados)\n",
    "    dados_norm = pd.json_normalize(distritos)\n",
    "    dfs.append(dados_norm)\n",
    "    \n",
    "todos = pd.concat(dfs, ignore_index=True)\n",
    "todos"
   ]
  },
  {
   "cell_type": "code",
   "execution_count": null,
   "metadata": {},
   "outputs": [],
   "source": [
    "todos.columns = todos.columns.str.replace('.', '_')\n",
    "todos.columns = todos.columns.str.replace('-', '_')"
   ]
  },
  {
   "cell_type": "markdown",
   "metadata": {},
   "source": [
    "Estabelecendo a conexão com o banco de dados MySQL:"
   ]
  },
  {
   "cell_type": "code",
   "execution_count": null,
   "metadata": {},
   "outputs": [],
   "source": [
    "engine = create_engine(\"mysql+pymysql://root:@localhost:3306/test\")\n",
    "connection = engine.connect()\n",
    "pdsql = PandaSQL()"
   ]
  },
  {
   "cell_type": "markdown",
   "metadata": {},
   "source": [
    "Lendo os dados de cada UF:"
   ]
  },
  {
   "cell_type": "code",
   "execution_count": null,
   "metadata": {},
   "outputs": [],
   "source": [
    "def read_item(UF_id: int):\n",
    "    query_uf_id = f\"SELECT * FROM testeapi WHERE municipio_microrregiao_mesorregiao_UF_id = {UF_id};\"\n",
    "    df_uf_id = pd.read_sql(query_uf_id, connection)\n",
    "    json_uf_id = df_uf_id.to_json(orient = 'records')\n",
    "    result_id = json.loads(json_uf_id)\n",
    "    return result_id"
   ]
  },
  {
   "cell_type": "code",
   "execution_count": null,
   "metadata": {},
   "outputs": [],
   "source": [
    "# Exemplo São Paulo: UF = 35\n",
    "\n",
    "read_item(35)"
   ]
  }
 ],
 "metadata": {
  "kernelspec": {
   "display_name": "Python 3.10.7 64-bit",
   "language": "python",
   "name": "python3"
  },
  "language_info": {
   "codemirror_mode": {
    "name": "ipython",
    "version": 3
   },
   "file_extension": ".py",
   "mimetype": "text/x-python",
   "name": "python",
   "nbconvert_exporter": "python",
   "pygments_lexer": "ipython3",
   "version": "3.10.7"
  },
  "orig_nbformat": 4,
  "vscode": {
   "interpreter": {
    "hash": "cabb79eba6a7bbc86f68b9d7ec45eb843010dd03cdb24ac98d3af13e82d22868"
   }
  }
 },
 "nbformat": 4,
 "nbformat_minor": 2
}
